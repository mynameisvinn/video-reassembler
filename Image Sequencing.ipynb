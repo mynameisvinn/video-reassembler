{
 "cells": [
  {
   "cell_type": "code",
   "execution_count": 20,
   "metadata": {
    "collapsed": false
   },
   "outputs": [
    {
     "data": {
      "text/plain": [
       "'\\nthis notebook will sequence images by minimizing total error/displacement\\n'"
      ]
     },
     "execution_count": 20,
     "metadata": {},
     "output_type": "execute_result"
    }
   ],
   "source": [
    "'''\n",
    "this notebook will sequence images by minimizing total error/displacement\n",
    "'''"
   ]
  },
  {
   "cell_type": "code",
   "execution_count": 11,
   "metadata": {
    "collapsed": true
   },
   "outputs": [],
   "source": [
    "import glob\n",
    "import cv2\n",
    "import matplotlib.pyplot as plt\n",
    "from skimage.io import imread\n",
    "import numpy as np\n",
    "import pandas as pd\n",
    "\n",
    "%matplotlib inline\n"
   ]
  },
  {
   "cell_type": "code",
   "execution_count": 7,
   "metadata": {
    "collapsed": false
   },
   "outputs": [
    {
     "data": {
      "text/plain": [
       "20"
      ]
     },
     "execution_count": 7,
     "metadata": {},
     "output_type": "execute_result"
    }
   ],
   "source": [
    "ls_paths = glob.glob('0/*')[:20]\n",
    "ls_images = map(imread, ls_paths)\n",
    "len(ls_images)"
   ]
  },
  {
   "cell_type": "code",
   "execution_count": 8,
   "metadata": {
    "collapsed": true
   },
   "outputs": [],
   "source": [
    "feature_params = dict( maxCorners = 100,\n",
    "                       qualityLevel = 0.3,\n",
    "                       minDistance = 7,\n",
    "                       blockSize = 7 )\n",
    "\n",
    "lk_params = dict( winSize  = (15,15),\n",
    "                  maxLevel = 2,\n",
    "                  criteria = (cv2.TERM_CRITERIA_EPS | cv2.TERM_CRITERIA_COUNT, 10, 0.03))"
   ]
  },
  {
   "cell_type": "code",
   "execution_count": 9,
   "metadata": {
    "collapsed": false
   },
   "outputs": [],
   "source": [
    "src = []\n",
    "dst = []\n",
    "delta = []\n",
    "\n",
    "for i in range(len(ls_images)):\n",
    "    \n",
    "    for j in range(len(ls_images)):\n",
    "        \n",
    "        old_image = ls_images[i]\n",
    "        new_image = ls_images[j]\n",
    "        old_gray = cv2.cvtColor(old_image, cv2.COLOR_BGR2GRAY)\n",
    "        p0 = cv2.goodFeaturesToTrack(old_gray, mask = None, **feature_params)\n",
    "        frame_gray = cv2.cvtColor(new_image, cv2.COLOR_BGR2GRAY)\n",
    "        p1, st, err = cv2.calcOpticalFlowPyrLK(old_gray, frame_gray, p0, None, **lk_params)\n",
    "        sum(err)\n",
    "        \n",
    "        src.append(ls_paths[i])\n",
    "        dst.append(ls_paths[j])\n",
    "        delta.append(sum(err)[0])"
   ]
  },
  {
   "cell_type": "code",
   "execution_count": 15,
   "metadata": {
    "collapsed": false
   },
   "outputs": [
    {
     "data": {
      "text/plain": [
       "(400, 3)"
      ]
     },
     "execution_count": 15,
     "metadata": {},
     "output_type": "execute_result"
    }
   ],
   "source": [
    "# concat into dataframe for pairwise sorting\n",
    "\n",
    "a = {'src': src}\n",
    "b = {'dst': dst}\n",
    "c = {'delta': delta}\n",
    "\n",
    "data_x = pd.concat([pd.DataFrame(a), pd.DataFrame(b), pd.DataFrame(c)], axis = 1)\n",
    "data_x.shape"
   ]
  },
  {
   "cell_type": "code",
   "execution_count": 16,
   "metadata": {
    "collapsed": false
   },
   "outputs": [
    {
     "data": {
      "text/plain": [
       "array(['0/00035.jpg', '0/00036.jpg', '0/00039.jpg', '0/00079.jpg',\n",
       "       '0/00103.jpg', '0/00136.jpg', '0/00139.jpg', '0/00143.jpg',\n",
       "       '0/00148.jpg', '0/00153.jpg', '0/00159.jpg', '0/00180.jpg',\n",
       "       '0/00211.jpg', '0/00216.jpg', '0/00224.jpg', '0/00241.jpg',\n",
       "       '0/00247.jpg', '0/00248.jpg', '0/00260.jpg', '0/00263.jpg'], dtype=object)"
      ]
     },
     "execution_count": 16,
     "metadata": {},
     "output_type": "execute_result"
    }
   ],
   "source": [
    "data_x['src'].unique()"
   ]
  },
  {
   "cell_type": "code",
   "execution_count": 17,
   "metadata": {
    "collapsed": true
   },
   "outputs": [],
   "source": [
    "def find_next(ls_sequences, data):\n",
    "    '''\n",
    "    function:\n",
    "    ---------\n",
    "    given a starting image, find the nearest neighbor by minimizing error'''\n",
    "    \n",
    "    idx = len(ls_sequences)\n",
    "    prev = ls_sequences[idx  - 1]\n",
    "    i = 1\n",
    "    \n",
    "    while True:\n",
    "\n",
    "        \n",
    "        next_image = data[data['src'] == prev].sort('delta').reset_index(drop = True)['dst'][i]\n",
    "\n",
    "        if next_image not in ls_sequences_x:\n",
    "            ls_sequences.append(next_image)\n",
    "            break\n",
    "        else:\n",
    "            i += 1\n",
    "    \n",
    "    return ls_sequences"
   ]
  },
  {
   "cell_type": "code",
   "execution_count": 18,
   "metadata": {
    "collapsed": false
   },
   "outputs": [
    {
     "data": {
      "text/plain": [
       "20"
      ]
     },
     "execution_count": 18,
     "metadata": {},
     "output_type": "execute_result"
    }
   ],
   "source": [
    "ls_sequences_x = ['0/00241.jpg'] # choose starting point!\n",
    "\n",
    "# append to list until set is exhausted\n",
    "while len(ls_sequences_x) < len(data['src'].unique()):\n",
    "    find_next(ls_sequences_x, data_x)"
   ]
  },
  {
   "cell_type": "code",
   "execution_count": 19,
   "metadata": {
    "collapsed": false
   },
   "outputs": [],
   "source": [
    "pd.DataFrame(ls_sequences_x).to_csv('jet_1.csv')"
   ]
  },
  {
   "cell_type": "code",
   "execution_count": null,
   "metadata": {
    "collapsed": true
   },
   "outputs": [],
   "source": []
  }
 ],
 "metadata": {
  "kernelspec": {
   "display_name": "Python 2",
   "language": "python",
   "name": "python2"
  },
  "language_info": {
   "codemirror_mode": {
    "name": "ipython",
    "version": 2
   },
   "file_extension": ".py",
   "mimetype": "text/x-python",
   "name": "python",
   "nbconvert_exporter": "python",
   "pygments_lexer": "ipython2",
   "version": "2.7.10"
  }
 },
 "nbformat": 4,
 "nbformat_minor": 0
}
